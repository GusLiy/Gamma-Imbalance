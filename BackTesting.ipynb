{
 "cells": [
  {
   "cell_type": "code",
   "execution_count": null,
   "id": "b94cf21a-5299-42c9-9373-101621ac435a",
   "metadata": {},
   "outputs": [],
   "source": [
    "import pandas as pd\n",
    "import numpy as np\n",
    "import matplotlib.pyplot as plt\n",
    "\n",
    "data = pd.read_csv('nge_intraday_data.csv')\n",
    "\n",
    "\n",
    "\n",
    "data[\"signal\"] = 0\n",
    "data.loc[(data[\"NGE\"] < 0) & (data[\"rROD\"] > 0), \"signal\"] = 1\n",
    "data.loc[(data[\"NGE\"] < 0) & (data[\"rROD\"] < 0), \"signal\"] = -1\n",
    "data[\"strategy_return\"] = data[\"signal\"] * data[\"rLH\"]\n",
    "data[\"cumulative_return\"] = (1 + data[\"strategy_return\"]).cumprod()\n",
    "plt.figure(figsize=(12, 5))\n",
    "plt.plot(data[\"date\"], data[\"cumulative_return\"], label=\"Gamma Momentum Strategy\")\n",
    "plt.axhline(1.0, color='gray', linestyle='--')\n",
    "plt.title(\"Cumulative Return of Gamma Momentum Strategy\")\n",
    "plt.xlabel(\"Date\")\n",
    "plt.ylabel(\"Cumulative Return\")\n",
    "plt.legend()\n",
    "plt.grid(True)\n",
    "plt.tight_layout()\n",
    "plt.show()"
   ]
  },
  {
   "cell_type": "code",
   "execution_count": null,
   "id": "7acc20dd-8378-4337-9591-0a8c38c86d84",
   "metadata": {},
   "outputs": [],
   "source": []
  }
 ],
 "metadata": {
  "kernelspec": {
   "display_name": "Python 3 (ipykernel)",
   "language": "python",
   "name": "python3"
  },
  "language_info": {
   "codemirror_mode": {
    "name": "ipython",
    "version": 3
   },
   "file_extension": ".py",
   "mimetype": "text/x-python",
   "name": "python",
   "nbconvert_exporter": "python",
   "pygments_lexer": "ipython3",
   "version": "3.12.4"
  }
 },
 "nbformat": 4,
 "nbformat_minor": 5
}
